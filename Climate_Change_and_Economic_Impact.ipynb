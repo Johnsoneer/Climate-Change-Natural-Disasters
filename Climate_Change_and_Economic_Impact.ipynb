{
  "nbformat": 4,
  "nbformat_minor": 5,
  "metadata": {
    "kernelspec": {
      "display_name": "Python 3",
      "language": "python",
      "name": "python3"
    },
    "language_info": {
      "codemirror_mode": {
        "name": "ipython",
        "version": 3
      },
      "file_extension": ".py",
      "mimetype": "text/x-python",
      "name": "python",
      "nbconvert_exporter": "python",
      "pygments_lexer": "ipython3",
      "version": "3.6.8"
    },
    "colab": {
      "name": "Climate_Change_and_Economic_Impact.ipynb",
      "provenance": [],
      "include_colab_link": true
    }
  },
  "cells": [
    {
      "cell_type": "markdown",
      "metadata": {
        "id": "view-in-github",
        "colab_type": "text"
      },
      "source": [
        "<a href=\"https://colab.research.google.com/github/Johnsoneer/Climate-Change-Natural-Disasters/blob/main/Climate_Change_and_Economic_Impact.ipynb\" target=\"_parent\"><img src=\"https://colab.research.google.com/assets/colab-badge.svg\" alt=\"Open In Colab\"/></a>"
      ]
    },
    {
      "cell_type": "code",
      "metadata": {
        "colab": {
          "base_uri": "https://localhost:8080/"
        },
        "id": "eaWA4wqtItM0",
        "outputId": "ce25bf31-34e9-43c2-c22d-60fbab56795d"
      },
      "source": [
        "from google.colab import drive\n",
        "drive.mount('/content/drive')"
      ],
      "id": "eaWA4wqtItM0",
      "execution_count": 1,
      "outputs": [
        {
          "output_type": "stream",
          "name": "stdout",
          "text": [
            "Drive already mounted at /content/drive; to attempt to forcibly remount, call drive.mount(\"/content/drive\", force_remount=True).\n"
          ]
        }
      ]
    },
    {
      "cell_type": "code",
      "metadata": {
        "colab": {
          "base_uri": "https://localhost:8080/"
        },
        "id": "LqIDfKKAJ5UX",
        "outputId": "80e9f0b8-fd11-491b-8cdb-74c242917c97"
      },
      "source": [
        "%cd drive/MyDrive\n",
        "! git clone https://github.com/Johnsoneer/Climate-Change-Natural-Disasters.git"
      ],
      "id": "LqIDfKKAJ5UX",
      "execution_count": 2,
      "outputs": [
        {
          "output_type": "stream",
          "name": "stdout",
          "text": [
            "/content/drive/MyDrive\n",
            "fatal: destination path 'Climate-Change-Natural-Disasters' already exists and is not an empty directory.\n"
          ]
        }
      ]
    },
    {
      "cell_type": "code",
      "metadata": {
        "id": "b7001e2b"
      },
      "source": [
        "!cp Climate-Change-Natural-Disasters/Code/NaturalDisastersDataCleaner.py .\n",
        "!cp Climate-Change-Natural-Disasters/Data/natural_disasters_original.csv .\n",
        "!cp Climate-Change-Natural-Disasters/Data/natural_disaster_economic_impact_original.csv ."
      ],
      "id": "b7001e2b",
      "execution_count": 3,
      "outputs": []
    },
    {
      "cell_type": "code",
      "metadata": {
        "id": "x21TL5wuMBXi"
      },
      "source": [
        "from NaturalDisastersDataCleaner import DisasterData"
      ],
      "id": "x21TL5wuMBXi",
      "execution_count": 4,
      "outputs": []
    },
    {
      "cell_type": "markdown",
      "metadata": {
        "id": "f3c1965c"
      },
      "source": [
        "# Load our Dataset\n"
      ],
      "id": "f3c1965c"
    },
    {
      "cell_type": "code",
      "metadata": {
        "id": "409494a5"
      },
      "source": [
        "obj = DisasterData(csv_strs = ['natural_disasters_original.csv',\n",
        "                               'natural_disaster_economic_impact_original.csv'])"
      ],
      "id": "409494a5",
      "execution_count": 5,
      "outputs": []
    },
    {
      "cell_type": "code",
      "metadata": {
        "colab": {
          "base_uri": "https://localhost:8080/",
          "height": 204
        },
        "id": "a1904129",
        "outputId": "007b4a26-ea21-4c8d-9509-9868a41c60f5"
      },
      "source": [
        "# Display our dataframe's top\n",
        "obj.disaster_df.head()"
      ],
      "id": "a1904129",
      "execution_count": 6,
      "outputs": [
        {
          "output_type": "execute_result",
          "data": {
            "text/html": [
              "<div>\n",
              "<style scoped>\n",
              "    .dataframe tbody tr th:only-of-type {\n",
              "        vertical-align: middle;\n",
              "    }\n",
              "\n",
              "    .dataframe tbody tr th {\n",
              "        vertical-align: top;\n",
              "    }\n",
              "\n",
              "    .dataframe thead th {\n",
              "        text-align: right;\n",
              "    }\n",
              "</style>\n",
              "<table border=\"1\" class=\"dataframe\">\n",
              "  <thead>\n",
              "    <tr style=\"text-align: right;\">\n",
              "      <th></th>\n",
              "      <th>Entity</th>\n",
              "      <th>Year</th>\n",
              "      <th>Number of reported natural disasters (reported disasters)</th>\n",
              "    </tr>\n",
              "  </thead>\n",
              "  <tbody>\n",
              "    <tr>\n",
              "      <th>0</th>\n",
              "      <td>All natural disasters</td>\n",
              "      <td>1900</td>\n",
              "      <td>5</td>\n",
              "    </tr>\n",
              "    <tr>\n",
              "      <th>1</th>\n",
              "      <td>All natural disasters</td>\n",
              "      <td>1901</td>\n",
              "      <td>2</td>\n",
              "    </tr>\n",
              "    <tr>\n",
              "      <th>2</th>\n",
              "      <td>All natural disasters</td>\n",
              "      <td>1902</td>\n",
              "      <td>9</td>\n",
              "    </tr>\n",
              "    <tr>\n",
              "      <th>3</th>\n",
              "      <td>All natural disasters</td>\n",
              "      <td>1903</td>\n",
              "      <td>8</td>\n",
              "    </tr>\n",
              "    <tr>\n",
              "      <th>4</th>\n",
              "      <td>All natural disasters</td>\n",
              "      <td>1904</td>\n",
              "      <td>2</td>\n",
              "    </tr>\n",
              "  </tbody>\n",
              "</table>\n",
              "</div>"
            ],
            "text/plain": [
              "                  Entity  ...  Number of reported natural disasters (reported disasters)\n",
              "0  All natural disasters  ...                                                  5        \n",
              "1  All natural disasters  ...                                                  2        \n",
              "2  All natural disasters  ...                                                  9        \n",
              "3  All natural disasters  ...                                                  8        \n",
              "4  All natural disasters  ...                                                  2        \n",
              "\n",
              "[5 rows x 3 columns]"
            ]
          },
          "metadata": {},
          "execution_count": 6
        }
      ]
    },
    {
      "cell_type": "markdown",
      "metadata": {
        "id": "66712953"
      },
      "source": [
        "We noticed that the dataset appears to repeat years in for each disaster type. We also noticed that there were several missing values when we group by the year so we needed to clean those out.\n",
        "\n",
        "Now let's look at the top of our economic column. "
      ],
      "id": "66712953"
    },
    {
      "cell_type": "code",
      "metadata": {
        "colab": {
          "base_uri": "https://localhost:8080/",
          "height": 204
        },
        "id": "0e04b4e3",
        "outputId": "ba132bca-20e4-4aa2-8437-b624d5d04ce5"
      },
      "source": [
        "obj.economic_df.head()"
      ],
      "id": "0e04b4e3",
      "execution_count": 7,
      "outputs": [
        {
          "output_type": "execute_result",
          "data": {
            "text/html": [
              "<div>\n",
              "<style scoped>\n",
              "    .dataframe tbody tr th:only-of-type {\n",
              "        vertical-align: middle;\n",
              "    }\n",
              "\n",
              "    .dataframe tbody tr th {\n",
              "        vertical-align: top;\n",
              "    }\n",
              "\n",
              "    .dataframe thead th {\n",
              "        text-align: right;\n",
              "    }\n",
              "</style>\n",
              "<table border=\"1\" class=\"dataframe\">\n",
              "  <thead>\n",
              "    <tr style=\"text-align: right;\">\n",
              "      <th></th>\n",
              "      <th>Entity</th>\n",
              "      <th>Code</th>\n",
              "      <th>Year</th>\n",
              "      <th>Total economic damage from natural disasters (US$)</th>\n",
              "    </tr>\n",
              "  </thead>\n",
              "  <tbody>\n",
              "    <tr>\n",
              "      <th>0</th>\n",
              "      <td>All natural disasters</td>\n",
              "      <td>NaN</td>\n",
              "      <td>1900</td>\n",
              "      <td>30000000</td>\n",
              "    </tr>\n",
              "    <tr>\n",
              "      <th>1</th>\n",
              "      <td>All natural disasters</td>\n",
              "      <td>NaN</td>\n",
              "      <td>1901</td>\n",
              "      <td>0</td>\n",
              "    </tr>\n",
              "    <tr>\n",
              "      <th>2</th>\n",
              "      <td>All natural disasters</td>\n",
              "      <td>NaN</td>\n",
              "      <td>1902</td>\n",
              "      <td>0</td>\n",
              "    </tr>\n",
              "    <tr>\n",
              "      <th>3</th>\n",
              "      <td>All natural disasters</td>\n",
              "      <td>NaN</td>\n",
              "      <td>1903</td>\n",
              "      <td>480000000</td>\n",
              "    </tr>\n",
              "    <tr>\n",
              "      <th>4</th>\n",
              "      <td>All natural disasters</td>\n",
              "      <td>NaN</td>\n",
              "      <td>1904</td>\n",
              "      <td>0</td>\n",
              "    </tr>\n",
              "  </tbody>\n",
              "</table>\n",
              "</div>"
            ],
            "text/plain": [
              "                  Entity  ...  Total economic damage from natural disasters (US$)\n",
              "0  All natural disasters  ...                                           30000000 \n",
              "1  All natural disasters  ...                                                  0 \n",
              "2  All natural disasters  ...                                                  0 \n",
              "3  All natural disasters  ...                                          480000000 \n",
              "4  All natural disasters  ...                                                  0 \n",
              "\n",
              "[5 rows x 4 columns]"
            ]
          },
          "metadata": {},
          "execution_count": 7
        }
      ]
    },
    {
      "cell_type": "markdown",
      "metadata": {
        "id": "60cb452c"
      },
      "source": [
        "Similar story. Let's clean this dataset so that we have one row per year, we have only the columns we care about, and we have ingore the years before 1970 and after 2015."
      ],
      "id": "60cb452c"
    },
    {
      "cell_type": "code",
      "metadata": {
        "colab": {
          "base_uri": "https://localhost:8080/",
          "height": 269
        },
        "id": "7194f710",
        "outputId": "79391cb1-3fb1-4ba2-c081-6360ecf6f948"
      },
      "source": [
        "# Clean dataset and collect into one dataframe\n",
        "obj.cleanDf()\n",
        "obj.df.head()"
      ],
      "id": "7194f710",
      "execution_count": 8,
      "outputs": [
        {
          "output_type": "execute_result",
          "data": {
            "text/html": [
              "<div>\n",
              "<style scoped>\n",
              "    .dataframe tbody tr th:only-of-type {\n",
              "        vertical-align: middle;\n",
              "    }\n",
              "\n",
              "    .dataframe tbody tr th {\n",
              "        vertical-align: top;\n",
              "    }\n",
              "\n",
              "    .dataframe thead th {\n",
              "        text-align: right;\n",
              "    }\n",
              "</style>\n",
              "<table border=\"1\" class=\"dataframe\">\n",
              "  <thead>\n",
              "    <tr style=\"text-align: right;\">\n",
              "      <th></th>\n",
              "      <th>All natural disasters</th>\n",
              "      <th>Drought</th>\n",
              "      <th>Extreme temperature</th>\n",
              "      <th>Extreme weather</th>\n",
              "      <th>Flood</th>\n",
              "      <th>Landslide</th>\n",
              "      <th>Wildfire</th>\n",
              "      <th>TotalCost: All natural disasters</th>\n",
              "      <th>TotalCost: Drought</th>\n",
              "      <th>TotalCost: Extreme temperature</th>\n",
              "      <th>TotalCost: Extreme weather</th>\n",
              "      <th>TotalCost: Flood</th>\n",
              "      <th>TotalCost: Landslide</th>\n",
              "      <th>TotalCost: Wildfire</th>\n",
              "    </tr>\n",
              "    <tr>\n",
              "      <th>Year</th>\n",
              "      <th></th>\n",
              "      <th></th>\n",
              "      <th></th>\n",
              "      <th></th>\n",
              "      <th></th>\n",
              "      <th></th>\n",
              "      <th></th>\n",
              "      <th></th>\n",
              "      <th></th>\n",
              "      <th></th>\n",
              "      <th></th>\n",
              "      <th></th>\n",
              "      <th></th>\n",
              "      <th></th>\n",
              "    </tr>\n",
              "  </thead>\n",
              "  <tbody>\n",
              "    <tr>\n",
              "      <th>1970</th>\n",
              "      <td>77.0</td>\n",
              "      <td>2.0</td>\n",
              "      <td>NaN</td>\n",
              "      <td>24.0</td>\n",
              "      <td>31.0</td>\n",
              "      <td>5.0</td>\n",
              "      <td>3.0</td>\n",
              "      <td>3.076594e+09</td>\n",
              "      <td>2100000.0</td>\n",
              "      <td>NaN</td>\n",
              "      <td>1.064974e+09</td>\n",
              "      <td>1.307770e+09</td>\n",
              "      <td>NaN</td>\n",
              "      <td>100000000.0</td>\n",
              "    </tr>\n",
              "    <tr>\n",
              "      <th>1971</th>\n",
              "      <td>61.0</td>\n",
              "      <td>7.0</td>\n",
              "      <td>1.0</td>\n",
              "      <td>22.0</td>\n",
              "      <td>15.0</td>\n",
              "      <td>5.0</td>\n",
              "      <td>2.0</td>\n",
              "      <td>1.688589e+09</td>\n",
              "      <td>3900000.0</td>\n",
              "      <td>100000000.0</td>\n",
              "      <td>2.083890e+08</td>\n",
              "      <td>5.563000e+08</td>\n",
              "      <td>NaN</td>\n",
              "      <td>NaN</td>\n",
              "    </tr>\n",
              "    <tr>\n",
              "      <th>1972</th>\n",
              "      <td>63.0</td>\n",
              "      <td>7.0</td>\n",
              "      <td>2.0</td>\n",
              "      <td>26.0</td>\n",
              "      <td>15.0</td>\n",
              "      <td>5.0</td>\n",
              "      <td>3.0</td>\n",
              "      <td>4.090413e+09</td>\n",
              "      <td>187000000.0</td>\n",
              "      <td>NaN</td>\n",
              "      <td>2.602920e+09</td>\n",
              "      <td>4.344930e+08</td>\n",
              "      <td>NaN</td>\n",
              "      <td>NaN</td>\n",
              "    </tr>\n",
              "    <tr>\n",
              "      <th>1973</th>\n",
              "      <td>60.0</td>\n",
              "      <td>2.0</td>\n",
              "      <td>3.0</td>\n",
              "      <td>22.0</td>\n",
              "      <td>20.0</td>\n",
              "      <td>5.0</td>\n",
              "      <td>3.0</td>\n",
              "      <td>2.407043e+09</td>\n",
              "      <td>76000000.0</td>\n",
              "      <td>NaN</td>\n",
              "      <td>5.392000e+08</td>\n",
              "      <td>1.766493e+09</td>\n",
              "      <td>NaN</td>\n",
              "      <td>NaN</td>\n",
              "    </tr>\n",
              "    <tr>\n",
              "      <th>1974</th>\n",
              "      <td>68.0</td>\n",
              "      <td>4.0</td>\n",
              "      <td>NaN</td>\n",
              "      <td>28.0</td>\n",
              "      <td>19.0</td>\n",
              "      <td>10.0</td>\n",
              "      <td>3.0</td>\n",
              "      <td>4.064944e+09</td>\n",
              "      <td>NaN</td>\n",
              "      <td>NaN</td>\n",
              "      <td>3.123017e+09</td>\n",
              "      <td>9.069720e+08</td>\n",
              "      <td>21700000.0</td>\n",
              "      <td>NaN</td>\n",
              "    </tr>\n",
              "  </tbody>\n",
              "</table>\n",
              "</div>"
            ],
            "text/plain": [
              "      All natural disasters  Drought  ...  TotalCost: Landslide  TotalCost: Wildfire\n",
              "Year                                  ...                                           \n",
              "1970                   77.0      2.0  ...                   NaN          100000000.0\n",
              "1971                   61.0      7.0  ...                   NaN                  NaN\n",
              "1972                   63.0      7.0  ...                   NaN                  NaN\n",
              "1973                   60.0      2.0  ...                   NaN                  NaN\n",
              "1974                   68.0      4.0  ...            21700000.0                  NaN\n",
              "\n",
              "[5 rows x 14 columns]"
            ]
          },
          "metadata": {},
          "execution_count": 8
        }
      ]
    },
    {
      "cell_type": "code",
      "metadata": {
        "id": "157b9840"
      },
      "source": [
        ""
      ],
      "id": "157b9840",
      "execution_count": 8,
      "outputs": []
    }
  ]
}